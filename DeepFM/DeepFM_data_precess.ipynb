{
 "cells": [
  {
   "cell_type": "code",
   "execution_count": 3,
   "metadata": {},
   "outputs": [],
   "source": [
    "import tensorflow as tf\n",
    "import pandas as pd\n",
    "import numpy as np\n",
    "\n",
    "from tensorflow import keras\n",
    "from tensorflow.keras import layers\n",
    "\n",
    "from sklearn.utils import shuffle"
   ]
  },
  {
   "cell_type": "code",
   "execution_count": 8,
   "metadata": {},
   "outputs": [],
   "source": [
    "# process data\n",
    "from sklearn.utils import shuffle\n",
    "    \n",
    "def column_mean_and_std_fn(df, col):\n",
    "    not_nan = df[col].notna()\n",
    "    tmp_df = df[col][not_nan]\n",
    "    return  tmp_df.mean(), tmp_df.std()\n",
    "\n",
    "def column_fillna(df, col, value):\n",
    "    tmp_df = df[col].fillna(value)\n",
    "    return tmp_df \n",
    "\n",
    "# 构造特征字典\n",
    "def gen_feat_dict(df,ignore_cols=[] ):\n",
    "    feat_dict = {}\n",
    "    tc = 1\n",
    "    for col in df.columns:\n",
    "        if col in df_categorical_columns:\n",
    "            us = df[col].unique()\n",
    "            feat_dict[col] = dict(zip(us, range(tc, len(us)+tc)))\n",
    "            tc += len(us)\n",
    "    return tc, feat_dict\n",
    "\n",
    "# 对某一列去掉低频特征\n",
    "def remove_rare_value(x, args):\n",
    "    _set = args[0]\n",
    "    col = args[1]\n",
    "    if x not in _set:\n",
    "        x = \"%s_remove\"%col\n",
    "        return x\n",
    "    else:\n",
    "        return x\n",
    "        \n",
    "    "
   ]
  },
  {
   "cell_type": "code",
   "execution_count": 9,
   "metadata": {},
   "outputs": [],
   "source": [
    "df = pd.read_csv(\"./criteo_sampled_data.csv\")\n",
    "df = shuffle(df)\n",
    "\n",
    "# 去掉一些取值很分散的特征\n",
    "omit_columns = ['C3', 'C9', 'C12', 'C16', 'C21']\n",
    "df = df.drop(omit_columns, axis=1)\n",
    "\n",
    "# 剩下的特征，按照numerci和categorical分开\n",
    "df_numeric_columns = ['I1', 'I3', 'I4', 'I5', 'I6', 'I7', 'I8', 'I9', 'I10', 'I11', 'I12', 'I13']\n",
    "df_categorical_columns = ['C1', 'C2', 'C4', 'C5', 'C6', 'C7', 'C8', 'C10', 'C11', \n",
    "                        'C13', 'C14', 'C15', 'C17', 'C18','C19', 'C20',\n",
    "                       'C22', 'C23', 'C24', 'C25', 'C26', 'I2']\n",
    "\n",
    "# 填充缺失值\n",
    "for col in df_numeric_columns:\n",
    "    mean, std = column_mean_and_std_fn(df, col)\n",
    "    df[col] = column_fillna(df, col, mean)\n",
    "    df[col] = (df[col]-mean)/std\n",
    "for col in df_categorical_columns:\n",
    "    value = (\"%s_nan\"%(col))\n",
    "    df[col] = df[col].fillna(value)\n",
    "\n",
    "# 对剩下的categorical还要去掉一些频次很低的特征\n",
    "categorical_columns_dict = {}\n",
    "for col in df_categorical_columns[0:]:\n",
    "    tmp = df.groupby([col]).size().sort_values(ascending=False).cumsum() / 600000\n",
    "    feature_list = tmp[tmp<=0.80]\n",
    "    categorical_columns_dict[col] = set(feature_list.index.tolist())"
   ]
  },
  {
   "cell_type": "code",
   "execution_count": 10,
   "metadata": {},
   "outputs": [],
   "source": [
    "# 将低频特征替换为 \"col_remove\" 的字符串\n",
    "for col in df_categorical_columns:\n",
    "    _set = categorical_columns_dict[col]\n",
    "    df[col] = df[col].apply(remove_rare_value, args=((_set, col),))"
   ]
  },
  {
   "cell_type": "code",
   "execution_count": 11,
   "metadata": {},
   "outputs": [
    {
     "name": "stdout",
     "output_type": "stream",
     "text": [
      "              I1         I2        I3        I4         I5        I6  \\\n",
      "476485  0.000000         -1  0.000000  0.000000  10.307109  0.000000   \n",
      "593808  0.074609        180 -0.052305 -0.675870  -0.275100 -0.236530   \n",
      "103361  0.000000         46 -0.040468  0.008152  -0.063902 -0.220677   \n",
      "375145 -0.139874          0  0.000000  0.000000  -0.265967 -0.208786   \n",
      "368254  0.000000  I2_remove -0.049937 -0.105852  -0.111832 -0.139426   \n",
      "...          ...        ...       ...       ...        ...       ...   \n",
      "42937   0.000000          2 -0.052305 -0.561866  -0.231340 -0.234549   \n",
      "256072 -0.354356          2 -0.054672 -0.447863  -0.171758  0.000000   \n",
      "307706 -0.354356          3  0.000000  0.000000  -0.235944  0.019112   \n",
      "289958 -0.354356         22  0.042393 -0.675870   0.150040  0.000000   \n",
      "336620 -0.354356          1 -0.035733 -0.333859  -0.253895 -0.157262   \n",
      "\n",
      "              I7        I8        I9       I10  ...         C15         C17  \\\n",
      "476485  0.000000 -0.261545  0.000000  0.000000  ...    40e29d2a    e5ba7672   \n",
      "593808  0.931599  0.213124  2.037754  0.632739  ...    55d28d38    3486227d   \n",
      "103361 -0.236709 -0.111650 -0.441666  0.000000  ...    4b0401e8    d4bb7bd8   \n",
      "375145 -0.203329 -0.286528 -0.432874  0.632739  ...    1150f5ed  C17_remove   \n",
      "368254 -0.169949 -0.186598 -0.002053  0.000000  ...    310d155b    e5ba7672   \n",
      "...          ...       ...       ...       ...  ...         ...         ...   \n",
      "42937  -0.236709 -0.286528 -0.424081  0.000000  ...    60fa10e5    e5ba7672   \n",
      "256072 -0.253399  0.188141 -0.450458 -0.829981  ...    a733d362    07c540c4   \n",
      "307706 -0.236709  0.662810 -0.028429 -0.829981  ...    f6b23a53    07c540c4   \n",
      "289958  0.000000 -0.311511  0.000000 -0.829981  ...  C15_remove  C17_remove   \n",
      "336620 -0.203329  0.562880 -0.208671 -0.829981  ...    3c767806    e5ba7672   \n",
      "\n",
      "               C18       C19         C20         C22         C23         C24  \\\n",
      "476485    7ef5affa  21ddcdc9  C20_remove     C22_nan    32c7478e    3fdb382b   \n",
      "593808    2b46823a   C19_nan     C20_nan     C22_nan  C23_remove    590b856f   \n",
      "103361    d9942b4c   C19_nan     C20_nan  C22_remove    3a171ecb    e47759f6   \n",
      "375145    7e32f7a4   C19_nan     C20_nan     C22_nan    3a171ecb    b34f3128   \n",
      "368254    891589e7  21ddcdc9    a458ea53     C22_nan  C23_remove  C24_remove   \n",
      "...            ...       ...         ...         ...         ...         ...   \n",
      "42937     df4fffb7  21ddcdc9  C20_remove     C22_nan    32c7478e    d6b9343b   \n",
      "256072    281769c2   C19_nan     C20_nan     C22_nan    3a171ecb    aee52b6f   \n",
      "307706    6fc84bfb   C19_nan     C20_nan     C22_nan  C23_remove    ded4aac9   \n",
      "289958  C18_remove   C19_nan     C20_nan  C22_remove    423fab69  C24_remove   \n",
      "336620    395856b0  21ddcdc9    a458ea53     C22_nan    32c7478e    b8942a02   \n",
      "\n",
      "               C25         C26  \n",
      "476485    001f3601    a39e1586  \n",
      "593808     C25_nan     C26_nan  \n",
      "103361     C25_nan     C26_nan  \n",
      "375145     C25_nan     C26_nan  \n",
      "368254  C25_remove  C26_remove  \n",
      "...            ...         ...  \n",
      "42937   C25_remove    984e0db0  \n",
      "256072     C25_nan     C26_nan  \n",
      "307706     C25_nan     C26_nan  \n",
      "289958     C25_nan     C26_nan  \n",
      "336620    001f3601    85f5af35  \n",
      "\n",
      "[600000 rows x 34 columns]\n",
      "476485    0\n",
      "593808    0\n",
      "103361    0\n",
      "375145    0\n",
      "368254    1\n",
      "         ..\n",
      "42937     0\n",
      "256072    0\n",
      "307706    0\n",
      "289958    0\n",
      "336620    1\n",
      "Name: label, Length: 600000, dtype: int64\n"
     ]
    }
   ],
   "source": [
    "labels = df.pop(\"label\")\n",
    "features = df\n",
    "\n",
    "print(features)\n",
    "print(labels)\n",
    "\n",
    "ft_sz, ft_dict = gen_feat_dict(features)\n"
   ]
  },
  {
   "cell_type": "code",
   "execution_count": 12,
   "metadata": {},
   "outputs": [
    {
     "name": "stdout",
     "output_type": "stream",
     "text": [
      "13945\n"
     ]
    }
   ],
   "source": [
    "print(ft_sz)"
   ]
  },
  {
   "cell_type": "code",
   "execution_count": 13,
   "metadata": {},
   "outputs": [
    {
     "name": "stdout",
     "output_type": "stream",
     "text": [
      "<class 'dict'>\n",
      "dict_keys(['I2', 'C1', 'C2', 'C4', 'C5', 'C6', 'C7', 'C8', 'C10', 'C11', 'C13', 'C14', 'C15', 'C17', 'C18', 'C19', 'C20', 'C22', 'C23', 'C24', 'C25', 'C26'])\n"
     ]
    }
   ],
   "source": [
    "print(type(ft_dict))\n",
    "print(ft_dict.keys())\n"
   ]
  },
  {
   "cell_type": "code",
   "execution_count": 14,
   "metadata": {},
   "outputs": [
    {
     "name": "stdout",
     "output_type": "stream",
     "text": [
      "              I1  I2        I3        I4         I5        I6        I7  \\\n",
      "476485  0.000000   1  0.000000  0.000000  10.307109  0.000000  0.000000   \n",
      "593808  0.074609   2 -0.052305 -0.675870  -0.275100 -0.236530  0.931599   \n",
      "103361  0.000000   3 -0.040468  0.008152  -0.063902 -0.220677 -0.236709   \n",
      "375145 -0.139874   4  0.000000  0.000000  -0.265967 -0.208786 -0.203329   \n",
      "368254  0.000000   5 -0.049937 -0.105852  -0.111832 -0.139426 -0.169949   \n",
      "...          ...  ..       ...       ...        ...       ...       ...   \n",
      "42937   0.000000  18 -0.052305 -0.561866  -0.231340 -0.234549 -0.236709   \n",
      "256072 -0.354356  18 -0.054672 -0.447863  -0.171758  0.000000 -0.253399   \n",
      "307706 -0.354356   7  0.000000  0.000000  -0.235944  0.019112 -0.236709   \n",
      "289958 -0.354356  15  0.042393 -0.675870   0.150040  0.000000  0.000000   \n",
      "336620 -0.354356   6 -0.035733 -0.333859  -0.253895 -0.157262 -0.203329   \n",
      "\n",
      "              I8        I9       I10  ...    C15    C17    C18    C19    C20  \\\n",
      "476485 -0.261545  0.000000  0.000000  ...  11621  12346  12351  12621  12625   \n",
      "593808  0.213124  2.037754  0.632739  ...  11622  12347  12352  12622  12626   \n",
      "103361 -0.111650 -0.441666  0.000000  ...  11623  12348  12353  12622  12626   \n",
      "375145 -0.286528 -0.432874  0.632739  ...  11624  12349  12354  12622  12626   \n",
      "368254 -0.186598 -0.002053  0.000000  ...  11625  12346  12355  12621  12627   \n",
      "...          ...       ...       ...  ...    ...    ...    ...    ...    ...   \n",
      "42937  -0.286528 -0.424081  0.000000  ...  11639  12346  12368  12621  12625   \n",
      "256072  0.188141 -0.450458 -0.829981  ...  11629  12350  12359  12622  12626   \n",
      "307706  0.662810 -0.028429 -0.829981  ...  11697  12350  12417  12622  12626   \n",
      "289958 -0.311511  0.000000 -0.829981  ...  11627  12349  12357  12622  12626   \n",
      "336620  0.562880 -0.208671 -0.829981  ...  11725  12346  12426  12621  12627   \n",
      "\n",
      "          C22    C23    C24    C25    C26  \n",
      "476485  12628  12630  12634  13605  13610  \n",
      "593808  12628  12631  12635  13606  13611  \n",
      "103361  12629  12632  12636  13606  13611  \n",
      "375145  12628  12632  12637  13606  13611  \n",
      "368254  12628  12631  12638  13607  13612  \n",
      "...       ...    ...    ...    ...    ...  \n",
      "42937   12628  12630  12847  13607  13618  \n",
      "256072  12628  12632  12639  13606  13611  \n",
      "307706  12628  12631  12655  13606  13611  \n",
      "289958  12629  12633  12638  13606  13611  \n",
      "336620  12628  12630  12809  13605  13693  \n",
      "\n",
      "[600000 rows x 34 columns]\n"
     ]
    }
   ],
   "source": [
    "889455*(17)*64 / 1024 / 1024 / 1024\n",
    "import json\n",
    "def value2index_func(x, args):\n",
    "    tmp_dict = args\n",
    "    if x in tmp_dict:\n",
    "        return tmp_dict[x]\n",
    "    else:\n",
    "        return 0\n",
    "    \n",
    "\n",
    "for col in df_categorical_columns:\n",
    "    _dict = ft_dict[col]\n",
    "    df[col] = df[col].apply(value2index_func,args=(_dict,))\n",
    "\n",
    "print(df)"
   ]
  },
  {
   "cell_type": "code",
   "execution_count": 15,
   "metadata": {},
   "outputs": [
    {
     "name": "stdout",
     "output_type": "stream",
     "text": [
      "476485    0\n",
      "593808    0\n",
      "103361    0\n",
      "375145    0\n",
      "368254    1\n",
      "         ..\n",
      "42937     0\n",
      "256072    0\n",
      "307706    0\n",
      "289958    0\n",
      "336620    1\n",
      "Name: label, Length: 600000, dtype: int64\n"
     ]
    }
   ],
   "source": [
    "print(labels)"
   ]
  },
  {
   "cell_type": "code",
   "execution_count": 16,
   "metadata": {},
   "outputs": [],
   "source": [
    "df.to_csv(\"features.csv\",index=False)\n",
    "labels.to_csv(\"labels.csv\", index=False)"
   ]
  },
  {
   "cell_type": "code",
   "execution_count": 17,
   "metadata": {},
   "outputs": [],
   "source": [
    "def foo(*args, **kwargs):\n",
    "    print('args = ', args)\n",
    "    print('kwargs = ', kwargs)\n",
    "    for k in kwargs:\n",
    "        print(k)\n",
    "        print(kwargs[k])\n",
    "    \n",
    "#     b = json.loads(args(0))\n",
    "#     print(b)\n",
    "    \n",
    "    print('---------------------------------------')"
   ]
  },
  {
   "cell_type": "code",
   "execution_count": 18,
   "metadata": {},
   "outputs": [
    {
     "name": "stdout",
     "output_type": "stream",
     "text": [
      "{'a': 1, 'b': 2}\n",
      "args =  ()\n",
      "kwargs =  {'a': {'a': 1, 'b': 2}}\n",
      "a\n",
      "{'a': 1, 'b': 2}\n",
      "---------------------------------------\n"
     ]
    }
   ],
   "source": [
    "import json\n",
    "a = ({\"a\":1,\"b\":2})\n",
    "print(a)\n",
    "foo(a=a)"
   ]
  },
  {
   "cell_type": "code",
   "execution_count": null,
   "metadata": {},
   "outputs": [],
   "source": []
  }
 ],
 "metadata": {
  "kernelspec": {
   "display_name": "tf2.2",
   "language": "python",
   "name": "tf2.2"
  },
  "language_info": {
   "codemirror_mode": {
    "name": "ipython",
    "version": 3
   },
   "file_extension": ".py",
   "mimetype": "text/x-python",
   "name": "python",
   "nbconvert_exporter": "python",
   "pygments_lexer": "ipython3",
   "version": "3.7.7"
  }
 },
 "nbformat": 4,
 "nbformat_minor": 4
}
